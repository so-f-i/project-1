{
 "cells": [
  {
   "cell_type": "code",
   "execution_count": 1,
   "id": "e7eeabb0-36f6-485d-92a8-3225b9ea1c09",
   "metadata": {},
   "outputs": [
    {
     "name": "stdout",
     "output_type": "stream",
     "text": [
      "Запрашиваем данные чарта...\n",
      "Данные успешно сохранены в yandex_chart_20250509_232052.json\n"
     ]
    }
   ],
   "source": [
    "# Сбор данных\n",
    "import requests\n",
    "import json\n",
    "from datetime import datetime\n",
    "\n",
    "# Выполняем запрос и получаем JSON-ответ\n",
    "response = requests.get('https://api.music.yandex.ru/landing3/chart')\n",
    "\n",
    "def fetch_chart_data():\n",
    "    \"\"\"Получает данные чарта из API Яндекс.Музыки и сохраняет в JSON\"\"\"\n",
    "    print(\"Запрашиваем данные чарта...\")\n",
    "    response = requests.get(\n",
    "        'https://api.music.yandex.ru/landing3/chart',\n",
    "    )\n",
    "    \n",
    "    if response.status_code != 200:\n",
    "        raise Exception(f\"Ошибка запроса: {response.status_code}\")\n",
    "    \n",
    "    data = response.json()\n",
    "    timestamp = datetime.now().strftime(\"%Y%m%d_%H%M%S\")\n",
    "    filename = f\"yandex_chart_{timestamp}.json\"\n",
    "    \n",
    "    with open(filename, 'w', encoding='utf-8') as f:\n",
    "        json.dump(data, f, ensure_ascii=False, indent=2)\n",
    "    \n",
    "    print(f\"Данные успешно сохранены в {filename}\")\n",
    "    return filename\n",
    "\n",
    "if __name__ == \"__main__\":\n",
    "    fetch_chart_data()"
   ]
  }
 ],
 "metadata": {
  "kernelspec": {
   "display_name": "Python 3 (ipykernel)",
   "language": "python",
   "name": "python3"
  },
  "language_info": {
   "codemirror_mode": {
    "name": "ipython",
    "version": 3
   },
   "file_extension": ".py",
   "mimetype": "text/x-python",
   "name": "python",
   "nbconvert_exporter": "python",
   "pygments_lexer": "ipython3",
   "version": "3.11.9"
  }
 },
 "nbformat": 4,
 "nbformat_minor": 5
}
